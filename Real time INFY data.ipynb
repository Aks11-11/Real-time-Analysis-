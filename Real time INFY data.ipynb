{
 "cells": [
  {
   "cell_type": "code",
   "execution_count": 43,
   "id": "8bb36dba",
   "metadata": {},
   "outputs": [],
   "source": [
    "url1 = \"https://www.google.com/finance/quote/INFY:NSE?hl=en\""
   ]
  },
  {
   "cell_type": "code",
   "execution_count": 48,
   "id": "86f234eb",
   "metadata": {},
   "outputs": [
    {
     "name": "stdout",
     "output_type": "stream",
     "text": [
      "1433.65\n",
      "1433.3\n",
      "1433.0\n"
     ]
    }
   ],
   "source": [
    "import requests \n",
    "from bs4 import BeautifulSoup\n",
    "import time\n",
    "ticker = 'INFY'\n",
    "exchange = 'NSE?hl=en'\n",
    "url = f'https://www.google.com/finance/quote/{ticker}:{exchange}'\n",
    "for i in range(3):\n",
    "    response = requests.get(url)\n",
    "    soup = BeautifulSoup(response.text,'html.parser')\n",
    "    class1 = \"YMlKec fxKbKc\"\n",
    "    price = float(soup.find(class_ = class1).text.strip()[1:].replace(\",\",\"\"))\n",
    "    print(price)\n",
    "    time.sleep(10)"
   ]
  },
  {
   "cell_type": "code",
   "execution_count": 49,
   "id": "f16c6941",
   "metadata": {},
   "outputs": [],
   "source": [
    "#response"
   ]
  },
  {
   "cell_type": "code",
   "execution_count": 50,
   "id": "9739f67b",
   "metadata": {},
   "outputs": [],
   "source": [
    "#soup"
   ]
  },
  {
   "cell_type": "code",
   "execution_count": 51,
   "id": "b186d0af",
   "metadata": {},
   "outputs": [
    {
     "name": "stdout",
     "output_type": "stream",
     "text": [
      "1433.0\n"
     ]
    }
   ],
   "source": []
  },
  {
   "cell_type": "code",
   "execution_count": null,
   "id": "f44b482d",
   "metadata": {},
   "outputs": [],
   "source": []
  },
  {
   "cell_type": "code",
   "execution_count": null,
   "id": "9effd717",
   "metadata": {},
   "outputs": [],
   "source": []
  }
 ],
 "metadata": {
  "kernelspec": {
   "display_name": "Python 3 (ipykernel)",
   "language": "python",
   "name": "python3"
  },
  "language_info": {
   "codemirror_mode": {
    "name": "ipython",
    "version": 3
   },
   "file_extension": ".py",
   "mimetype": "text/x-python",
   "name": "python",
   "nbconvert_exporter": "python",
   "pygments_lexer": "ipython3",
   "version": "3.11.9"
  }
 },
 "nbformat": 4,
 "nbformat_minor": 5
}
